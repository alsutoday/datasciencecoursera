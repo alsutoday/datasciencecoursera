{
  "nbformat": 4,
  "nbformat_minor": 0,
  "metadata": {
    "colab": {
      "name": "rruff_learning.ipynb",
      "version": "0.3.2",
      "provenance": [],
      "collapsed_sections": [],
      "include_colab_link": true
    },
    "kernelspec": {
      "name": "python3",
      "display_name": "Python 3"
    }
  },
  "cells": [
    {
      "cell_type": "markdown",
      "metadata": {
        "id": "view-in-github",
        "colab_type": "text"
      },
      "source": [
        "<a href=\"https://colab.research.google.com/github/jemappellelisa/datasciencecoursera/blob/master/rruff_learning.ipynb\" target=\"_parent\"><img src=\"https://colab.research.google.com/assets/colab-badge.svg\" alt=\"Open In Colab\"/></a>"
      ]
    },
    {
      "metadata": {
        "id": "QGPwcZnf6UDC",
        "colab_type": "text"
      },
      "cell_type": "markdown",
      "source": [
        "Our goal is to train a neural network to correctly guess the crystal system of a given powder x-ray diffraction (XRD) spectrum.\n",
        "\n",
        "We start out by importing some standard libraries that will come in handy later."
      ]
    },
    {
      "metadata": {
        "id": "LTbqMZo8iAaA",
        "colab_type": "code",
        "colab": {}
      },
      "cell_type": "code",
      "source": [
        "# TensorFlow and tf.keras\n",
        "import tensorflow as tf\n",
        "from tensorflow import keras\n",
        "\n",
        "# Helper libraries\n",
        "import numpy as np\n",
        "import matplotlib.pyplot as plt"
      ],
      "execution_count": 0,
      "outputs": []
    },
    {
      "metadata": {
        "id": "ULwr6da79wRb",
        "colab_type": "text"
      },
      "cell_type": "markdown",
      "source": [
        "#Playing with the data"
      ]
    },
    {
      "metadata": {
        "id": "TFkEihna4ko6",
        "colab_type": "text"
      },
      "cell_type": "markdown",
      "source": [
        "Let us first download the data from Mark's github repository and save it in the numpy arrays 'datvalues' and 'datlabels'."
      ]
    },
    {
      "metadata": {
        "id": "h3QzVzWWsnkL",
        "colab_type": "code",
        "outputId": "0be8a755-1821-4231-bdea-8e0c185ebb0a",
        "colab": {
          "base_uri": "https://localhost:8080/",
          "height": 167
        }
      },
      "cell_type": "code",
      "source": [
        "!git clone https://github.com/fiscioluzzi/ml_for_exp_condmat_workshop\n",
        "  \n",
        "datvalues = np.load('ml_for_exp_condmat_workshop/rruff/rruff_values_lownoise.npy')\n",
        "datlabels = np.load('ml_for_exp_condmat_workshop/rruff/rruff_crsys_lownoise.npy')"
      ],
      "execution_count": 0,
      "outputs": [
        {
          "output_type": "stream",
          "text": [
            "Cloning into 'ml_for_exp_condmat_workshop'...\n",
            "remote: Enumerating objects: 24, done.\u001b[K\n",
            "remote: Counting objects: 100% (24/24), done.\u001b[K\n",
            "remote: Compressing objects: 100% (21/21), done.\u001b[K\n",
            "remote: Total 109 (delta 8), reused 4 (delta 1), pack-reused 85\u001b[K\n",
            "Receiving objects: 100% (109/109), 25.07 MiB | 29.14 MiB/s, done.\n",
            "Resolving deltas: 100% (40/40), done.\n"
          ],
          "name": "stdout"
        }
      ]
    },
    {
      "metadata": {
        "id": "BUfJYcv-5xTQ",
        "colab_type": "text"
      },
      "cell_type": "markdown",
      "source": [
        "We are training with powder x-ray diffraction (XRD) spectra taken from the RRUFF database (http://rruff.info).\n",
        "\n",
        "**Task #1:** Plot a few of the spectra in 'datvalues' to make yourself familiar with what the data looks like."
      ]
    },
    {
      "metadata": {
        "id": "fZbcsUw_7xnO",
        "colab_type": "code",
        "colab": {}
      },
      "cell_type": "code",
      "source": [
        ""
      ],
      "execution_count": 0,
      "outputs": []
    },
    {
      "metadata": {
        "id": "xXqvYQec7_tC",
        "colab_type": "text"
      },
      "cell_type": "markdown",
      "source": [
        "The label pertaining to the n-th spectrum is given by the n-th entry of the array 'datlabels'. The 7 crystal systems are labelled as follows:\n",
        "\n",
        "1: triclinic;\n",
        "2: monoclinic;\n",
        "3: orthorhombic;\n",
        "4: tetragonal;\n",
        "5: trigonal;\n",
        "6: hexagonal;\n",
        "7: cubic.\n",
        "\n",
        "The dataset was obtained from real experiments, so the occurence of crystal systems is not equally distributed.\n",
        "\n",
        "**Task #2:**  Determine how many examples we have per crystal system."
      ]
    },
    {
      "metadata": {
        "id": "lA3srEdG9HJE",
        "colab_type": "code",
        "colab": {}
      },
      "cell_type": "code",
      "source": [
        ""
      ],
      "execution_count": 0,
      "outputs": []
    },
    {
      "metadata": {
        "id": "xbXKVp9O94qG",
        "colab_type": "text"
      },
      "cell_type": "markdown",
      "source": [
        "Finally, we have to select which part of the data to train with and which to test with. For simplicity, let us just pick out 100 samples randomly for the test set, while the training set is made up of all the others."
      ]
    },
    {
      "metadata": {
        "id": "fte9PyZ6-s3O",
        "colab_type": "code",
        "colab": {}
      },
      "cell_type": "code",
      "source": [
        "order = np.random.permutation(len(datlabels))\n",
        "\n",
        "train_data = datvalues[order][:546]\n",
        "train_labels = datlabels[order][:546] - 1\n",
        "test_data = datvalues[order][546:]\n",
        "test_labels = datlabels[order][546:] - 1"
      ],
      "execution_count": 0,
      "outputs": []
    },
    {
      "metadata": {
        "id": "-EHPrFaj_BTR",
        "colab_type": "text"
      },
      "cell_type": "markdown",
      "source": [
        "Note that we have subtracted 1 from all labels, this is because it will be easier to work with labels 0...6 than with 1...7 later."
      ]
    },
    {
      "metadata": {
        "id": "pG7_Lunl91Og",
        "colab_type": "text"
      },
      "cell_type": "markdown",
      "source": [
        "#Setting up and training the network"
      ]
    },
    {
      "metadata": {
        "id": "nXI7TUO1_kXX",
        "colab_type": "text"
      },
      "cell_type": "markdown",
      "source": [
        "**Task #3:** Set up and train a neural network to learn the mapping from 'train_data' to 'train_labels'. \n",
        "\n",
        "That is, given a XRD spectrum from 'train_data', your network should output the corresponding label 0...6 of its crystal system with maximum accuracy."
      ]
    },
    {
      "metadata": {
        "id": "1Ixer0xrAbJG",
        "colab_type": "code",
        "colab": {}
      },
      "cell_type": "code",
      "source": [
        ""
      ],
      "execution_count": 0,
      "outputs": []
    },
    {
      "metadata": {
        "id": "AFR1yruuAnvH",
        "colab_type": "text"
      },
      "cell_type": "markdown",
      "source": [
        "**Task #4:** Now, apply your network to obtain predictions for the crystal systems of 'test_data', and determine how many of these are equal to the real labels in 'test_labels'."
      ]
    },
    {
      "metadata": {
        "id": "IkfdNxj2A2oy",
        "colab_type": "code",
        "colab": {}
      },
      "cell_type": "code",
      "source": [
        ""
      ],
      "execution_count": 0,
      "outputs": []
    },
    {
      "metadata": {
        "id": "2tw0gCTGBHCk",
        "colab_type": "text"
      },
      "cell_type": "markdown",
      "source": [
        "**Task #5:** Finally, determine the performance of your network on subsets of 'test_data' corresponding to given crystal systems. Which crystal system is most easily recognized?"
      ]
    },
    {
      "metadata": {
        "id": "zx68LqaqBdLq",
        "colab_type": "code",
        "colab": {}
      },
      "cell_type": "code",
      "source": [
        ""
      ],
      "execution_count": 0,
      "outputs": []
    },
    {
      "metadata": {
        "id": "QDPrcu1x_Y9R",
        "colab_type": "text"
      },
      "cell_type": "markdown",
      "source": [
        "# Comparing the networks"
      ]
    },
    {
      "metadata": {
        "id": "RwEQB1NOZZEQ",
        "colab_type": "text"
      },
      "cell_type": "markdown",
      "source": [
        "In order to compare different networks, we have to get rid of the bias we introduced by choosing a random subset of 100 spectra as our test data. The straightforward way to do this is to loop over the entire procedure, from defining test and training data to evaluating the network accucary in Task #4.\n",
        "\n",
        "**Task #6:** Average the network accuracy (=percentage of correctly classified spectra in the test data) over 50 different runs, where in each run the test and training data are randomly chosen anew."
      ]
    },
    {
      "metadata": {
        "id": "I5H5CJWWkw_f",
        "colab_type": "code",
        "colab": {}
      },
      "cell_type": "code",
      "source": [
        "accs = []\n",
        "\n",
        "for i in range(50):\n",
        "    order = np.random.permutation(len(datlabels))\n",
        "\n",
        "    train_data = datvalues[order][:546]\n",
        "    train_labels = datlabels[order][:546] - 1\n",
        "    test_data = datvalues[order][546:]\n",
        "    test_labels = datlabels[order][546:] - 1\n",
        "\n",
        "    #youre code comes here!\n",
        "    \n",
        "    accs.append(test_acc)\n",
        "\n",
        "print('Mean test accuracy:', np.mean(accs))"
      ],
      "execution_count": 0,
      "outputs": []
    },
    {
      "metadata": {
        "id": "mMNGLVYgGG12",
        "colab_type": "code",
        "colab": {}
      },
      "cell_type": "code",
      "source": [
        ""
      ],
      "execution_count": 0,
      "outputs": []
    }
  ]
}